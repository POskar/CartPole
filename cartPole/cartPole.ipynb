{
 "cells": [
  {
   "cell_type": "markdown",
   "id": "37b993eb",
   "metadata": {},
   "source": [
    "First we need to import used libraries:"
   ]
  },
  {
   "cell_type": "code",
   "execution_count": 449,
   "id": "31215b15",
   "metadata": {
    "scrolled": true
   },
   "outputs": [],
   "source": [
    "import gym, itertools, numpy as np, pandas as pd, random"
   ]
  },
  {
   "cell_type": "markdown",
   "id": "c13c9c90",
   "metadata": {},
   "source": [
    "After that we can divide observation space values into certain ranges:"
   ]
  },
  {
   "cell_type": "code",
   "execution_count": 450,
   "id": "0328da32",
   "metadata": {},
   "outputs": [],
   "source": [
    "def mapping_observation_to_1D(observation, bits):\n",
    "    rule = []\n",
    "    lst_observations =[]\n",
    "    #var_for_velocity is fixed value for now\n",
    "    var_for_velocity = 5\n",
    "\n",
    "    #given range (-2.4, 2.4)\n",
    "    cart_position_range = np.linspace(-2.4, 2.4, num=bits+1)\n",
    "    lst_observations.append(cart_position_range)\n",
    "    #TODO\n",
    "    cart_velocity_range = np.linspace(-var_for_velocity, var_for_velocity, num=bits+1)\n",
    "    lst_observations.append(cart_velocity_range)\n",
    "    #given range (-0.2095 rad, 0.2095 rad)\n",
    "    pole_angle_range = np.linspace(-0.2095, 0.2095, num=bits+1)\n",
    "    lst_observations.append(pole_angle_range)\n",
    "    #TODO\n",
    "    pole_angular_velocity = np.linspace(-var_for_velocity, var_for_velocity, num=bits+1)\n",
    "    lst_observations.append(pole_angular_velocity)\n",
    "\n",
    "    for observation_index in range(len(lst_observations)):\n",
    "        for index in range(1, len(lst_observations[observation_index])):\n",
    "            #lower bound value <= observed value <= upper bound value\n",
    "            if lst_observations[observation_index][index-1] <= observation[observation_index] <= lst_observations[observation_index][index]:\n",
    "                rule.append(1)\n",
    "                #if we find it then fill the rest with 0s and break loop\n",
    "                for i in range(len(lst_observations[observation_index])-index-1):\n",
    "                    rule.append(0)\n",
    "                break\n",
    "            else:\n",
    "                rule.append(0)\n",
    "                \n",
    "        #5 break cells between observation values\n",
    "        for i in range(0,5):\n",
    "            rule.append(0)\n",
    "            \n",
    "    return rule\n"
   ]
  },
  {
   "cell_type": "markdown",
   "id": "f9c68968",
   "metadata": {},
   "source": [
    "Create rule set containing of random values:"
   ]
  },
  {
   "cell_type": "code",
   "execution_count": 451,
   "id": "277bb496",
   "metadata": {},
   "outputs": [],
   "source": [
    "def generate_ruleset(size):\n",
    "    list_dict_rules = []\n",
    "    dict_rules = {}\n",
    "    combinations_5_neighbours = list(itertools.product([0, 1], repeat=5))\n",
    "    # combinations_5_neighbours = [\"\".join(str(seq)).replace(',','').replace(' ','').replace('(','').replace(')','') for seq in combinations_5_neighbours]\n",
    "    #TODO\n",
    "    combinations_5_neighbours = [\"\".join(str(seq)) for seq in combinations_5_neighbours]\n",
    "\n",
    "    for iteration in range(0,size):\n",
    "        for combination in combinations_5_neighbours:\n",
    "            dict_rules[combination] = random.randint(0, 1)\n",
    "        list_dict_rules.append(dict_rules)\n",
    "\n",
    "    return list_dict_rules"
   ]
  },
  {
   "cell_type": "markdown",
   "id": "1bb8ff03",
   "metadata": {},
   "source": [
    "We define function action to behave accrodingly to our ruleset:"
   ]
  },
  {
   "cell_type": "code",
   "execution_count": 452,
   "id": "032b9695",
   "metadata": {},
   "outputs": [],
   "source": [
    "def action(mapped_observation, ruleset):\n",
    "    v = 0\n",
    "    oldline = mapped_observation\n",
    "    newline = [0] * len(mapped_observation)\n",
    "    for x in range(0,len(mapped_observation)):\n",
    "        print(x, \" generation\")\n",
    "        for bit in range(len(oldline)):\n",
    "            combination = str(oldline[bit % 60]) + str(oldline[(bit+1) % 60]) + str(oldline[(bit+2) % 60]) + str(oldline[(bit+3) % 60]) + str(oldline[(bit+4) % 60])\n",
    "            newline[(bit+2) % 60] = ruleset[combination]\n",
    "        oldline = newline\n",
    "        print(newline)\n",
    "\n",
    "    v = 1 if newline.count(1) > (len(mapped_observation)/2) else 0\n",
    "    return v"
   ]
  },
  {
   "cell_type": "markdown",
   "id": "f953cbbb",
   "metadata": {},
   "source": [
    "Prepare our CA:"
   ]
  },
  {
   "cell_type": "code",
   "execution_count": 453,
   "id": "284f61cd",
   "metadata": {},
   "outputs": [
    {
     "ename": "TypeError",
     "evalue": "'tuple' object is not callable",
     "output_type": "error",
     "traceback": [
      "\u001b[1;31m---------------------------------------------------------------------------\u001b[0m",
      "\u001b[1;31mTypeError\u001b[0m                                 Traceback (most recent call last)",
      "Cell \u001b[1;32mIn [453], line 5\u001b[0m\n\u001b[0;32m      2\u001b[0m observation, info \u001b[39m=\u001b[39m env\u001b[39m.\u001b[39mreset()\n\u001b[0;32m      3\u001b[0m list_to_return \u001b[39m=\u001b[39m []\n\u001b[1;32m----> 5\u001b[0m rulesets \u001b[39m=\u001b[39m generate_ruleset(\u001b[39m10\u001b[39;49m)\n",
      "Cell \u001b[1;32mIn [451], line 6\u001b[0m, in \u001b[0;36mgenerate_ruleset\u001b[1;34m(size)\u001b[0m\n\u001b[0;32m      4\u001b[0m combinations_5_neighbours \u001b[39m=\u001b[39m \u001b[39mlist\u001b[39m(itertools\u001b[39m.\u001b[39mproduct([\u001b[39m0\u001b[39m, \u001b[39m1\u001b[39m], repeat\u001b[39m=\u001b[39m\u001b[39m5\u001b[39m))\n\u001b[0;32m      5\u001b[0m \u001b[39m# combinations_5_neighbours = [\"\".join(str(seq)).replace(',','').replace(' ','').replace('(','').replace(')','') for seq in combinations_5_neighbours]\u001b[39;00m\n\u001b[1;32m----> 6\u001b[0m combinations_5_neighbours \u001b[39m=\u001b[39m [\u001b[39m\"\u001b[39m\u001b[39m\"\u001b[39m\u001b[39m.\u001b[39mjoin(\u001b[39mstr\u001b[39m(seq)) \u001b[39mfor\u001b[39;00m seq \u001b[39min\u001b[39;00m combinations_5_neighbours]\n\u001b[0;32m      8\u001b[0m \u001b[39mfor\u001b[39;00m iteration \u001b[39min\u001b[39;00m \u001b[39mrange\u001b[39m(\u001b[39m0\u001b[39m,size):\n\u001b[0;32m      9\u001b[0m     \u001b[39mfor\u001b[39;00m combination \u001b[39min\u001b[39;00m combinations_5_neighbours:\n",
      "Cell \u001b[1;32mIn [451], line 6\u001b[0m, in \u001b[0;36m<listcomp>\u001b[1;34m(.0)\u001b[0m\n\u001b[0;32m      4\u001b[0m combinations_5_neighbours \u001b[39m=\u001b[39m \u001b[39mlist\u001b[39m(itertools\u001b[39m.\u001b[39mproduct([\u001b[39m0\u001b[39m, \u001b[39m1\u001b[39m], repeat\u001b[39m=\u001b[39m\u001b[39m5\u001b[39m))\n\u001b[0;32m      5\u001b[0m \u001b[39m# combinations_5_neighbours = [\"\".join(str(seq)).replace(',','').replace(' ','').replace('(','').replace(')','') for seq in combinations_5_neighbours]\u001b[39;00m\n\u001b[1;32m----> 6\u001b[0m combinations_5_neighbours \u001b[39m=\u001b[39m [\u001b[39m\"\u001b[39m\u001b[39m\"\u001b[39m\u001b[39m.\u001b[39mjoin(\u001b[39mstr\u001b[39;49m(seq)) \u001b[39mfor\u001b[39;00m seq \u001b[39min\u001b[39;00m combinations_5_neighbours]\n\u001b[0;32m      8\u001b[0m \u001b[39mfor\u001b[39;00m iteration \u001b[39min\u001b[39;00m \u001b[39mrange\u001b[39m(\u001b[39m0\u001b[39m,size):\n\u001b[0;32m      9\u001b[0m     \u001b[39mfor\u001b[39;00m combination \u001b[39min\u001b[39;00m combinations_5_neighbours:\n",
      "\u001b[1;31mTypeError\u001b[0m: 'tuple' object is not callable"
     ]
    }
   ],
   "source": [
    "env = gym.make(\"CartPole-v1\", render_mode=\"human\")\n",
    "observation, info = env.reset()\n",
    "list_to_return = []\n",
    "\n",
    "rulesets = generate_ruleset(10)"
   ]
  },
  {
   "cell_type": "markdown",
   "id": "ade2c9c8",
   "metadata": {},
   "source": [
    "Run the simulation:"
   ]
  },
  {
   "cell_type": "code",
   "execution_count": null,
   "id": "8450bd72",
   "metadata": {},
   "outputs": [],
   "source": [
    "for ruleset in rulesets:\n",
    "    score = 0\n",
    "    maxscore = 0\n",
    "    dict_to_return = {}\n",
    "    dict_to_return[\"Ruleset\"] = ruleset.values()\n",
    "    for episode in range(10):\n",
    "        mapped_observation = mapping_observation_to_1D(observation, 10)\n",
    "        observation, reward, terminated, truncated, info = env.step(action(mapped_observation, ruleset))\n",
    "        score += reward\n",
    "        \n",
    "        if terminated or truncated:\n",
    "            observation, info = env.reset()\n",
    "            if score > maxscore:\n",
    "                maxscore = score \n",
    "            score = 0\n",
    "            dict_to_return[\"Maxscore\"] = int(maxscore)\n",
    "    list_to_return.append(dict_to_return)\n",
    "\n",
    "env.close()\n",
    "\n",
    "df = pd.DataFrame(list_to_return)\n",
    "# df = df.astype(str)\n",
    "df.to_csv('results.csv', index=False, header=False, sep=\";\")"
   ]
  }
 ],
 "metadata": {
  "kernelspec": {
   "display_name": "Python 3.10.5 64-bit",
   "language": "python",
   "name": "python3"
  },
  "language_info": {
   "codemirror_mode": {
    "name": "ipython",
    "version": 3
   },
   "file_extension": ".py",
   "mimetype": "text/x-python",
   "name": "python",
   "nbconvert_exporter": "python",
   "pygments_lexer": "ipython3",
   "version": "3.10.5"
  },
  "vscode": {
   "interpreter": {
    "hash": "52634da84371cba311ea128a5ea7cdc41ff074b781779e754b270ff9f8153cee"
   }
  }
 },
 "nbformat": 4,
 "nbformat_minor": 5
}
