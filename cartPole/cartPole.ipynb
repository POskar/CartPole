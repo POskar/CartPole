{
 "cells": [
  {
   "cell_type": "markdown",
   "id": "37b993eb",
   "metadata": {},
   "source": [
    "First we need to import used libraries:"
   ]
  },
  {
   "cell_type": "code",
   "execution_count": null,
   "id": "31215b15",
   "metadata": {
    "scrolled": true
   },
   "outputs": [],
   "source": [
    "import gym, itertools, numpy as np, pandas as pd, random, pygame"
   ]
  },
  {
   "cell_type": "markdown",
   "id": "c13c9c90",
   "metadata": {},
   "source": [
    "After that we can divide observation space values into certain ranges (cart position and pole angle are fixed, cart velocity and pole angular velocity need to be calculated by GA):"
   ]
  },
  {
   "cell_type": "code",
   "execution_count": null,
   "id": "0328da32",
   "metadata": {},
   "outputs": [],
   "source": [
    "def mapping_observation_to_bits(observation, bits):\n",
    "    rule = []\n",
    "    lst_observations =[]\n",
    "    #var_for_velocity is fixed value for now\n",
    "    var_for_velocity = 5\n",
    "\n",
    "    #given range (-2.4, 2.4)\n",
    "    cart_position_range = np.linspace(-2.4, 2.4, num=bits+1)\n",
    "    lst_observations.append(cart_position_range)\n",
    "    #TODO\n",
    "    cart_velocity_range = np.linspace(-var_for_velocity, var_for_velocity, num=bits+1)\n",
    "    lst_observations.append(cart_velocity_range)\n",
    "    #given range (-0.2095 rad, 0.2095 rad)\n",
    "    pole_angle_range = np.linspace(-0.2095, 0.2095, num=bits+1)\n",
    "    lst_observations.append(pole_angle_range)\n",
    "    #TODO\n",
    "    pole_angular_velocity = np.linspace(-var_for_velocity, var_for_velocity, num=bits+1)\n",
    "    lst_observations.append(pole_angular_velocity)\n",
    "\n",
    "    for observation_index in range(len(lst_observations)):\n",
    "        for index in range(1, len(lst_observations[observation_index])):\n",
    "            #lower bound value <= observed value <= upper bound value\n",
    "            if lst_observations[observation_index][index-1] <= observation[observation_index] <= lst_observations[observation_index][index]:\n",
    "                rule.append(1)\n",
    "                #if we find it then fill the rest with 0s and break loop\n",
    "                for i in range(len(lst_observations[observation_index])-index-1):\n",
    "                    rule.append(0)\n",
    "                break\n",
    "            else:\n",
    "                rule.append(0)\n",
    "                \n",
    "        #5 break cells between observation values\n",
    "        for i in range(0,5):\n",
    "            rule.append(0)\n",
    "            \n",
    "    return rule\n"
   ]
  },
  {
   "cell_type": "markdown",
   "id": "d1ddedc1",
   "metadata": {},
   "source": [
    "Rule as a class"
   ]
  },
  {
   "cell_type": "code",
   "execution_count": null,
   "id": "1a95ebae",
   "metadata": {},
   "outputs": [],
   "source": [
    "class rules:\n",
    "    def __init__(self,geno={},fitness=0, num_neighbours=5):\n",
    "        self.geno = geno\n",
    "        self.fitness = fitness\n",
    "        self.num_neighbours = num_neighbours\n",
    "\n",
    "        #generate each possible combination for 5 bits\n",
    "        combinations_n_neighbours = list(itertools.product([0, 1], repeat=num_neighbours))\n",
    "        combinations_n_neighbours = [\"\".join(str(seq)).replace(',','').replace(' ','').replace('(','').replace(')','') for seq in combinations_n_neighbours]\n",
    "\n",
    "        self.configurations = combinations_n_neighbours\n",
    "\n",
    "    def update_geno(self,gene):\n",
    "        \n",
    "        for i in range(len(self.configurations)):\n",
    "            self.geno[self.configurations[i]] = gene[i]\n",
    "\n",
    "\n",
    "    def random_initiation(self):\n",
    "        if self.geno == {}:\n",
    "            _ = {}\n",
    "\n",
    "            for configuration in self.configurations:\n",
    "                _[configuration] = random.choice([0,1])\n",
    "\n",
    "            self.geno = _\n",
    "            return\n",
    "\n",
    "    def update_fitness(self,new_fitness):\n",
    "        self.fitness = new_fitness\n",
    "\n",
    "    def reproduce(self, other, method='random_one_point'):\n",
    "        if method == 'random_one_point':\n",
    "            split_point = random.randrange(len(self.geno.values()))\n",
    "            first_half = list(self.geno.values())[:split_point]\n",
    "            second_half = list(other.geno.values())[split_point:]\n",
    "            _ = first_half + second_half\n",
    "        \n",
    "        child = rules()\n",
    "        child.update_geno(_)\n",
    "        return child   \n",
    "\n",
    "    def mutate(self, mutation_probability = 0.01):\n",
    "        _ = list(self.geno.values())\n",
    "        _ = [digit if random.random() > mutation_probability else 1 - digit for digit in _]\n",
    "        \n",
    "        self.update_geno(_)\n",
    "        self.update_fitness(0)\n",
    "        return self"
   ]
  },
  {
   "cell_type": "markdown",
   "id": "f9c68968",
   "metadata": {},
   "source": [
    "Create list containing rulesets which map every combinations of 5 neighbours bits to randomly chosen 0 or 1:"
   ]
  },
  {
   "cell_type": "code",
   "execution_count": null,
   "id": "277bb496",
   "metadata": {},
   "outputs": [],
   "source": [
    "def generate_ruleset(size):\n",
    "    ruleset = []\n",
    "\n",
    "    for _ in range(0,size):\n",
    "        rule = rules()\n",
    "        rule.random_initiation()\n",
    "        ruleset.append(rule)\n",
    "\n",
    "    return ruleset"
   ]
  },
  {
   "cell_type": "markdown",
   "id": "1bb8ff03",
   "metadata": {},
   "source": [
    "We define function action to behave accordingly to previously generated ruleset:"
   ]
  },
  {
   "cell_type": "code",
   "execution_count": null,
   "id": "032b9695",
   "metadata": {},
   "outputs": [],
   "source": [
    "def action(mapped_observation, rule):\n",
    "    oldline = mapped_observation\n",
    "    newline = [0] * len(mapped_observation)\n",
    "    for x in range(0,len(mapped_observation)):\n",
    "        for bit in range(len(oldline)):\n",
    "            combination = str(oldline[bit % 60]) + str(oldline[(bit+1) % 60]) + str(oldline[(bit+2) % 60]) + str(oldline[(bit+3) % 60]) + str(oldline[(bit+4) % 60])\n",
    "            newline[(bit+2) % 60] = rule.geno[combination]\n",
    "        oldline = newline\n",
    "\n",
    "    return 1 if newline.count(1) > (len(mapped_observation)/2) else 0"
   ]
  },
  {
   "cell_type": "markdown",
   "id": "0880bdfd",
   "metadata": {},
   "source": [
    "Selecting candidates for reproduction or mutation using fitness proportionate selection"
   ]
  },
  {
   "cell_type": "code",
   "execution_count": null,
   "id": "a83efbf7",
   "metadata": {},
   "outputs": [],
   "source": [
    "def evolve_ruleset(ruleset, offspring_proportion, crosssover_proportion):\n",
    "    m = len(ruleset)\n",
    "    n = round(offspring_proportion * m)\n",
    "\n",
    "    num_children_needed = round(n * crosssover_proportion)\n",
    "    num_mutation_needed = n - num_children_needed\n",
    "    sorted_ruleset = sorted(ruleset, key=lambda x: x.fitness, reverse = True)\n",
    "\n",
    "    crossover_without_mutation = sorted_ruleset[:m-n]\n",
    "    crossover_with_mutation = []\n",
    "    offspring = []\n",
    "\n",
    "    total_fitness =  sum([rule.fitness for rule in ruleset])\n",
    "    selection_probs = [rule.fitness/total_fitness for rule in ruleset]\n",
    "\n",
    "    for i in range(num_children_needed):\n",
    "        p1, p2 = select_parents(sorted_ruleset, selection_probs)\n",
    "        offspring.append(p1.reproduce(p2))\n",
    "    \n",
    "    for j in range(num_mutation_needed):\n",
    "        candidate = select_one(sorted_ruleset, selection_probs)\n",
    "        crossover_with_mutation.append(candidate.mutate())\n",
    "\n",
    "    return crossover_without_mutation + offspring + crossover_with_mutation\n",
    "\n",
    "def select_one(ruleset, selection_probs):\n",
    "    return np.random.choice(ruleset, p=selection_probs)\n",
    "\n",
    "def select_parents(ruleset, selection_probs):\n",
    "    return np.random.choice(ruleset, size=2, replace=False, p=selection_probs)"
   ]
  },
  {
   "cell_type": "markdown",
   "id": "f953cbbb",
   "metadata": {},
   "source": [
    "Prepare the environment, get the values of hyperparameters and generate rulesets:"
   ]
  },
  {
   "cell_type": "code",
   "execution_count": null,
   "id": "284f61cd",
   "metadata": {},
   "outputs": [],
   "source": [
    "# best to keep number_of_bits at 10\n",
    "number_of_bits = 10\n",
    "generations = 2\n",
    "number_of_rules = 10\n",
    "number_of_episodes = 10\n",
    "available_maxscore = 200\n",
    "offspring_proportion = 0.5\n",
    "crosssover_proportion = 0.8\n",
    "\n",
    "ruleset = generate_ruleset(number_of_rules)"
   ]
  },
  {
   "cell_type": "markdown",
   "id": "1516711d",
   "metadata": {},
   "source": [
    "Running the simulation for a given number of generations:"
   ]
  },
  {
   "cell_type": "code",
   "execution_count": null,
   "id": "dbc0c31c",
   "metadata": {},
   "outputs": [],
   "source": [
    "env = gym.make(\"CartPole-v1\", render_mode=\"human\")\n",
    "#truncated after reaching available_maxscore\n",
    "env = gym.wrappers.TimeLimit(env, available_maxscore)\n",
    "observation, info= env.reset()\n",
    "scoreboard = pd.DataFrame()\n",
    "\n",
    "for i in range(1,generations+1):\n",
    "    rule_list = []\n",
    "    score_list = []\n",
    "\n",
    "    for rule in ruleset:\n",
    "        score = 0\n",
    "        maxscore = 0\n",
    "        for episode in range(number_of_episodes):\n",
    "            mapped_observation = mapping_observation_to_bits(observation, number_of_bits)\n",
    "            observation, reward, terminated, truncated, info = env.step(action(mapped_observation, rule))\n",
    "            score += reward\n",
    "            \n",
    "            if terminated or truncated:\n",
    "                observation, info = env.reset()\n",
    "                if score > maxscore:\n",
    "                    maxscore = score \n",
    "                score = 0\n",
    "\n",
    "        rule_list.append(rule.geno)\n",
    "        score_list.append(int(maxscore))\n",
    "        rule.update_fitness(int(maxscore))    \n",
    "\n",
    "    # # Saves both ruleset and it's result in separate file after each generation\n",
    "    # df = pd.DataFrame({'Rules':rule_list, 'Fitness': score_list})\n",
    "    # df.to_csv(f'results_generation_{i}.csv', index=False, header=False, sep=\";\")\n",
    "\n",
    "    scoreboard[f'Generation_{i}'] = score_list\n",
    "    # Each generation, we evolve the ruleset based on each rule's fitness function\n",
    "    ruleset = evolve_ruleset(ruleset, offspring_proportion, crosssover_proportion)\n",
    "\n",
    "#At the end, scores are saved into csv file corresponding to their generation\n",
    "scoreboard.to_csv(f'scores_after_{i}_generations.csv', index=False, header=False)\n",
    "\n",
    "env.close()"
   ]
  }
 ],
 "metadata": {
  "kernelspec": {
   "display_name": "Python 3.10.5 64-bit",
   "language": "python",
   "name": "python3"
  },
  "language_info": {
   "codemirror_mode": {
    "name": "ipython",
    "version": 3
   },
   "file_extension": ".py",
   "mimetype": "text/x-python",
   "name": "python",
   "nbconvert_exporter": "python",
   "pygments_lexer": "ipython3",
   "version": "3.10.5"
  },
  "vscode": {
   "interpreter": {
    "hash": "52634da84371cba311ea128a5ea7cdc41ff074b781779e754b270ff9f8153cee"
   }
  }
 },
 "nbformat": 4,
 "nbformat_minor": 5
}
