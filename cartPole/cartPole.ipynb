{
 "cells": [
  {
   "cell_type": "markdown",
   "id": "37b993eb",
   "metadata": {},
   "source": [
    "First we need to import used libraries:"
   ]
  },
  {
   "cell_type": "code",
   "execution_count": 379,
   "id": "31215b15",
   "metadata": {
    "scrolled": true
   },
   "outputs": [],
   "source": [
    "import gym, itertools, pandas as pd"
   ]
  },
  {
   "cell_type": "markdown",
   "id": "556ce711",
   "metadata": {},
   "source": [
    "We generate two lists - one called ruleset which contains each possible combiantion of 16 bits and another called observation_space, where we keep combinations of 4 bits which are the dimensions of observation vector. We store them both in separate files so we don't have to generate them each time."
   ]
  },
  {
   "cell_type": "code",
   "execution_count": 380,
   "id": "63c33e18",
   "metadata": {},
   "outputs": [],
   "source": [
    "lst = list(itertools.product([0, 1], repeat=16))\n",
    "lst = [\"\".join(str(seq)).replace(',','').replace(' ','').replace('(','').replace(')','') for seq in lst]\n",
    "\n",
    "df = pd.DataFrame(lst)\n",
    "df = df.astype(str)\n",
    "df.to_csv('ruleset_combinations.csv', index=False)\n",
    "\n",
    "\n",
    "lst2 = list(itertools.product([0, 1], repeat=4))\n",
    "lst2 = [\"\".join(str(seq)).replace(',','').replace(' ','').replace('(','').replace(')','') for seq in lst2]\n",
    "\n",
    "df2 = pd.DataFrame(lst2)\n",
    "df2 = df2.astype(str)\n",
    "df2.to_csv('observation_space.csv', index=False)"
   ]
  },
  {
   "cell_type": "markdown",
   "id": "a06c4111",
   "metadata": {},
   "source": [
    "Then we can create a list of rulesets based on two files mentioned above."
   ]
  },
  {
   "cell_type": "code",
   "execution_count": 381,
   "id": "532c21ce",
   "metadata": {},
   "outputs": [],
   "source": [
    "df = pd.read_csv(r'observation_space.csv', dtype=str)\n",
    "df2 = pd.read_csv(r'ruleset_combinations.csv', dtype=str)\n",
    "\n",
    "observations = df.values.tolist()\n",
    "rulesets = df2.values.tolist()\n",
    "\n",
    "list_rulesets = []\n",
    "\n",
    "for ruleset in rulesets:\n",
    "    dict = {}\n",
    "    rule = \"\".join(ruleset)\n",
    "    for i in range(len(observations)):\n",
    "        dict[observations[i][0]] = rule[i]\n",
    "    list_rulesets.append(dict)\n",
    "\n",
    "df3 = pd.DataFrame(list_rulesets)\n",
    "df3 = df3.astype(str)\n",
    "df3.to_csv('list_rulesets.csv', index=False)"
   ]
  },
  {
   "cell_type": "markdown",
   "id": "1bb8ff03",
   "metadata": {},
   "source": [
    "We define function action to behave accrodingly to our ruleset:"
   ]
  },
  {
   "cell_type": "code",
   "execution_count": 382,
   "id": "032b9695",
   "metadata": {},
   "outputs": [],
   "source": [
    "def action(observation, ruleset):\n",
    "    cart_position = observation[0]\n",
    "    cart_velocity = observation[1]\n",
    "    pole_angle = observation[2]\n",
    "    pole_angular_velocity = observation[3]\n",
    "\n",
    "    cart_position = 1 if cart_position >= 0 else 0\n",
    "    cart_velocity = 1 if cart_velocity >= 0 else 0\n",
    "    pole_angle = 1 if pole_angle >= 0 else 0\n",
    "    pole_angular_velocity = 1 if pole_angular_velocity >= 0 else 0\n",
    "\n",
    "    key = str(cart_position) + str(cart_velocity) + str(pole_angle) + str(pole_angular_velocity)\n",
    "    return int(ruleset[key])"
   ]
  },
  {
   "cell_type": "markdown",
   "id": "f953cbbb",
   "metadata": {},
   "source": [
    "Then we run the simulation of CartPole for each possible ruleset. Results are saved into a file for easier readability."
   ]
  },
  {
   "cell_type": "code",
   "execution_count": 383,
   "id": "284f61cd",
   "metadata": {},
   "outputs": [],
   "source": [
    "env = gym.make(\"CartPole-v1\", render_mode=\"human\")\n",
    "observation, info = env.reset()\n",
    "\n",
    "lst_return = []\n",
    "score = 0\n",
    "\n",
    "for ruleset in list_rulesets:\n",
    "    dict_return = {}\n",
    "    maxscore = 0\n",
    "    dict_return[\"Ruleset\"] = rulesets[list_rulesets.index(ruleset)]\n",
    "    for episode in range(1000):\n",
    "        observation, reward, terminated, truncated, info = env.step(action(observation, ruleset))\n",
    "        score += reward\n",
    "        \n",
    "        if terminated or truncated:\n",
    "            observation, info = env.reset()\n",
    "            if score > maxscore:\n",
    "                maxscore = score \n",
    "            score = 0\n",
    "    dict_return[\"Maxscore\"] = int(maxscore)\n",
    "    lst_return.append(dict_return)\n",
    "\n",
    "env.close()\n",
    "\n",
    "df_final = pd.DataFrame(lst_return)\n",
    "df_final = df_final.astype(str)\n",
    "df_final.to_csv('results.csv', index=False, header=False, sep=';')"
   ]
  }
 ],
 "metadata": {
  "kernelspec": {
   "display_name": "Python 3 (ipykernel)",
   "language": "python",
   "name": "python3"
  },
  "language_info": {
   "codemirror_mode": {
    "name": "ipython",
    "version": 3
   },
   "file_extension": ".py",
   "mimetype": "text/x-python",
   "name": "python",
   "nbconvert_exporter": "python",
   "pygments_lexer": "ipython3",
   "version": "3.9.12"
  }
 },
 "nbformat": 4,
 "nbformat_minor": 5
}
