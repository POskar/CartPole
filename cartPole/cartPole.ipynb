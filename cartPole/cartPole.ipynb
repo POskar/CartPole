{
 "cells": [
  {
   "cell_type": "code",
   "execution_count": 25,
   "id": "31215b15",
   "metadata": {
    "scrolled": true
   },
   "outputs": [
    {
     "name": "stdout",
     "output_type": "stream",
     "text": [
      "Ruleset:  {'0000': '0', '0001': '0', '0010': '0', '0011': '0', '0100': '0', '0101': '0', '0110': '0', '0111': '0', '1000': '0', '1001': '0', '1010': '0', '1011': '0', '1100': '0', '1101': '0', '1110': '0', '1111': '0'}\n",
      "Max Score:  10.0\n",
      "Ruleset:  {'0000': '0', '0001': '0', '0010': '0', '0011': '0', '0100': '0', '0101': '0', '0110': '0', '0111': '0', '1000': '0', '1001': '0', '1010': '0', '1011': '0', '1100': '0', '1101': '0', '1110': '0', '1111': '1'}\n",
      "Max Score:  21.0\n",
      "Ruleset:  {'0000': '0', '0001': '0', '0010': '0', '0011': '0', '0100': '0', '0101': '0', '0110': '0', '0111': '0', '1000': '0', '1001': '0', '1010': '0', '1011': '0', '1100': '0', '1101': '0', '1110': '1', '1111': '0'}\n",
      "Max Score:  10.0\n",
      "Ruleset:  {'0000': '0', '0001': '0', '0010': '0', '0011': '0', '0100': '0', '0101': '0', '0110': '0', '0111': '0', '1000': '0', '1001': '0', '1010': '0', '1011': '0', '1100': '0', '1101': '0', '1110': '1', '1111': '1'}\n",
      "Max Score:  10.0\n",
      "Ruleset:  {'0000': '0', '0001': '0', '0010': '0', '0011': '0', '0100': '0', '0101': '0', '0110': '0', '0111': '0', '1000': '0', '1001': '0', '1010': '0', '1011': '0', '1100': '0', '1101': '1', '1110': '0', '1111': '0'}\n",
      "Max Score:  10.0\n"
     ]
    }
   ],
   "source": [
    "import gym\n",
    "import pandas as pd\n",
    "\n",
    "env = gym.make(\"CartPole-v1\", render_mode=\"human\")\n",
    "env.action_space.seed(42)\n",
    "observation, info = env.reset(seed=42)\n",
    "score = 0\n",
    "\n",
    "df = pd.read_csv(r'C:\\Users\\pieni\\Documents\\GitHub\\CartPole\\observation_space.csv', dtype=str)\n",
    "df2 = pd.read_csv(r'C:\\Users\\pieni\\Documents\\GitHub\\CartPole\\ruleset.csv', dtype=str)\n",
    "\n",
    "observations = df.values.tolist()\n",
    "rulesets = df2.values.tolist()\n",
    "\n",
    "list_rulesets = []\n",
    "\n",
    "for ruleset in rulesets:\n",
    "    dict = {}\n",
    "    rule = \"\".join(ruleset)\n",
    "    for i in range(len(observations)):\n",
    "        dict[observations[i][0]] = rule[i]\n",
    "    list_rulesets.append(dict)\n",
    "\n",
    "def action(observation, ruleset):\n",
    "    cart_position = observation[0]\n",
    "    cart_velocity = observation[1]\n",
    "    pole_angle = observation[2]\n",
    "    pole_angular_velocity = observation[3]\n",
    "\n",
    "    cart_position = 1 if cart_position >= 0 else 0\n",
    "    cart_velocity = 1 if cart_velocity >= 0 else 0\n",
    "    pole_angle = 1 if pole_angle >= 0 else 0\n",
    "    pole_angular_velocity = 1 if pole_angular_velocity >= 0 else 0\n",
    "\n",
    "    key = str(cart_position) + str(cart_velocity) + str(pole_angle) + str(pole_angular_velocity)\n",
    "    return int(ruleset[key])\n",
    "\n",
    "for ruleset in list_rulesets[:5]:\n",
    "    maxscore = 0\n",
    "    print('Ruleset: ', ruleset)\n",
    "    for episode in range(100):\n",
    "        observation, reward, terminated, truncated, info = env.step(action(observation, ruleset))\n",
    "        score += reward\n",
    "        \n",
    "        if terminated or truncated:\n",
    "            observation, info = env.reset()\n",
    "            if score > maxscore:\n",
    "                maxscore = score \n",
    "            score = 0\n",
    "    print(\"Max Score: \", maxscore)\n",
    "\n",
    "env.close()"
   ]
  }
 ],
 "metadata": {
  "kernelspec": {
   "display_name": "Python 3 (ipykernel)",
   "language": "python",
   "name": "python3"
  },
  "language_info": {
   "codemirror_mode": {
    "name": "ipython",
    "version": 3
   },
   "file_extension": ".py",
   "mimetype": "text/x-python",
   "name": "python",
   "nbconvert_exporter": "python",
   "pygments_lexer": "ipython3",
   "version": "3.9.12"
  }
 },
 "nbformat": 4,
 "nbformat_minor": 5
}
