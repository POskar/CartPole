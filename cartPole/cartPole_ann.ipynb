{
 "cells": [
  {
   "cell_type": "markdown",
   "id": "37b993eb",
   "metadata": {},
   "source": [
    "First we need to import used libraries:"
   ]
  },
  {
   "cell_type": "code",
   "execution_count": 1,
   "id": "31215b15",
   "metadata": {
    "scrolled": true
   },
   "outputs": [],
   "source": [
    "import gym, itertools, numpy as np, pandas as pd, random"
   ]
  },
  {
   "cell_type": "markdown",
   "id": "d1ddedc1",
   "metadata": {},
   "source": [
    "Rule as a class:"
   ]
  },
  {
   "cell_type": "code",
   "execution_count": 2,
   "id": "1a95ebae",
   "metadata": {},
   "outputs": [],
   "source": [
    "class rules:\n",
    "    _id = 0\n",
    "\n",
    "    def __init__(self,geno=[],fitness=0):\n",
    "        rules._id += 1\n",
    "        self.id = rules._id\n",
    "        self.geno = geno\n",
    "        self.fitness = fitness\n",
    "\n",
    "\n",
    "    def update_geno(self,geno):\n",
    "        \n",
    "        self.geno = geno\n",
    "\n",
    "\n",
    "    def random_initiation(self):\n",
    "        if self.geno == []:\n",
    "            hidden = np.random.normal(size=(4,10))\n",
    "            output = np.random.normal(size=(10,2))\n",
    "            self.geno = [hidden,output]\n",
    "\n",
    "    def update_fitness(self,new_fitness):\n",
    "        self.fitness = new_fitness\n",
    "\n",
    "    def reproduce(self, other, method='uniform'):\n",
    "        hidden = np.zeros_like(self.geno[0])\n",
    "        output = np.zeros_like(self.geno[1])\n",
    "        if method == 'uniform':\n",
    "            for i in range(len(self.geno[0])):\n",
    "                for j in range(len(self.geno[0][0])):\n",
    "                        hidden[i][j] = self.geno[0][i][j] if np.random.random() > 0.5 else other.geno[0][i][j]\n",
    "            \n",
    "            for i in range(len(self.geno[1])):\n",
    "                for j in range(len(self.geno[1][0])):\n",
    "                        output[i][j] = self.geno[1][i][j] if np.random.random() > 0.5 else other.geno[1][i][j]\n",
    "\n",
    "        child = rules()\n",
    "        child.update_geno([hidden,output])\n",
    "\n",
    "        return child   \n",
    "\n",
    "    def mutate(self, mutation_probability):\n",
    "        hidden = np.zeros_like(self.geno[0])\n",
    "        output = np.zeros_like(self.geno[1])\n",
    "        for i in range(len(self.geno[0])):\n",
    "            for j in range(len(self.geno[0][0])):\n",
    "                    hidden[i][j] = self.geno[0][i][j] + np.random.normal(scale=0.1) if np.random.random() < mutation_probability else self.geno[0][i][j]\n",
    "            \n",
    "        for i in range(len(self.geno[1])):\n",
    "            for j in range(len(self.geno[1][0])):\n",
    "                    output[i][j] = self.geno[1][i][j] + np.random.normal(scale=0.1) if np.random.random() < mutation_probability  else self.geno[1][i][j]\n",
    "\n",
    "        child = rules()\n",
    "        child.update_geno([hidden, output])\n",
    "        child.update_fitness(0)\n",
    "        return child"
   ]
  },
  {
   "cell_type": "markdown",
   "id": "f9c68968",
   "metadata": {},
   "source": [
    "Create list containing rulesets which map every combinations of 5 neighbours bits to randomly chosen 0 or 1:"
   ]
  },
  {
   "cell_type": "code",
   "execution_count": 3,
   "id": "277bb496",
   "metadata": {},
   "outputs": [],
   "source": [
    "def generate_ruleset(size):\n",
    "    ruleset = []\n",
    "\n",
    "    for _ in range(0,size):\n",
    "        rule = rules()\n",
    "        rule.random_initiation()\n",
    "        ruleset.append(rule)\n",
    "\n",
    "    return ruleset"
   ]
  },
  {
   "cell_type": "markdown",
   "id": "1bb8ff03",
   "metadata": {},
   "source": [
    "We define function action to behave accordingly to previously generated ruleset:"
   ]
  },
  {
   "cell_type": "code",
   "execution_count": 4,
   "id": "032b9695",
   "metadata": {},
   "outputs": [],
   "source": [
    "\n",
    "def action(observation, rule):\n",
    "    hidden = np.matmul(observation,rule.geno[0])\n",
    "    activation = np.maximum(hidden,0)\n",
    "    output = np.matmul(activation, rule.geno[1])\n",
    "\n",
    "    return np.argmax(output)"
   ]
  },
  {
   "cell_type": "markdown",
   "id": "0880bdfd",
   "metadata": {},
   "source": [
    "Selecting candidates for reproduction or mutation using fitness proportionate selection"
   ]
  },
  {
   "cell_type": "code",
   "execution_count": 6,
   "id": "a83efbf7",
   "metadata": {},
   "outputs": [],
   "source": [
    "def evolve_ruleset(ruleset, offspring_proportion, crossover_proportion, mutation_probability):\n",
    "    m = len(ruleset)\n",
    "    n = round(offspring_proportion * m)\n",
    "\n",
    "    num_children_needed = round(n * crossover_proportion)\n",
    "    num_mutation_needed = n - num_children_needed\n",
    "\n",
    "    crossover_without_mutation = ruleset[:m-n]\n",
    "    crossover_with_mutation = []\n",
    "    offspring = []\n",
    "\n",
    "    total_fitness =  sum([rule.fitness for rule in ruleset])\n",
    "    selection_probs = [rule.fitness/total_fitness for rule in ruleset]\n",
    "\n",
    "    for i in range(num_children_needed):\n",
    "        p1, p2 = select_parents(ruleset, selection_probs)\n",
    "        offspring.append(p1.reproduce(p2))\n",
    "    \n",
    "    for j in range(num_mutation_needed):\n",
    "        candidate = select_one(ruleset)\n",
    "        crossover_with_mutation.append(candidate.mutate(mutation_probability))\n",
    "\n",
    "    return crossover_without_mutation + offspring + crossover_with_mutation\n",
    "\n",
    "def select_one(ruleset, selection_probs):\n",
    "    return np.random.choice(ruleset)\n",
    "\n",
    "def select_parents(ruleset, selection_probs):\n",
    "    return np.random.choice(ruleset, size=2, replace=False, p=selection_probs)"
   ]
  },
  {
   "cell_type": "markdown",
   "id": "f953cbbb",
   "metadata": {},
   "source": [
    "Prepare the environment and generate a given number of rulesets:"
   ]
  },
  {
   "cell_type": "code",
   "execution_count": 7,
   "id": "284f61cd",
   "metadata": {},
   "outputs": [],
   "source": [
    "generations = 20\n",
    "number_of_rules = 50\n",
    "number_of_episodes = 1000\n",
    "available_maxscore = 200\n",
    "offspring_proportion = 0.9\n",
    "crossover_proportion = 0.8\n",
    "mutation_probability = 0.01\n",
    "\n",
    "ruleset = generate_ruleset(number_of_rules)"
   ]
  },
  {
   "cell_type": "markdown",
   "id": "1516711d",
   "metadata": {},
   "source": [
    "Running the simulation for a given number of generations:"
   ]
  },
  {
   "cell_type": "code",
   "execution_count": 8,
   "id": "dbc0c31c",
   "metadata": {},
   "outputs": [],
   "source": [
    "env = gym.make(\"CartPole-v1\", render_mode=\"human\")\n",
    "env = gym.wrappers.TimeLimit(env, available_maxscore)\n",
    "observation, info= env.reset()\n",
    "list_to_return = []\n",
    "scoreboard = pd.DataFrame()\n",
    "\n",
    "for i in range(1,generations+1):\n",
    "    for rule in ruleset:\n",
    "        score = 0\n",
    "        epi = 1\n",
    "        for episode in range(number_of_episodes):\n",
    "            observation, reward, terminated, truncated, info = env.step(action(observation, rule))\n",
    "            score += reward\n",
    "            \n",
    "            if terminated or truncated:\n",
    "                observation, info = env.reset()\n",
    "                epi += 1\n",
    "                \n",
    "        rule.update_fitness(score/epi)\n",
    "\n",
    "    ranked_ruleset = sorted(ruleset, key=lambda x: x.fitness, reverse = True)\n",
    "\n",
    "    score_list = [r.fitness for r in ranked_ruleset]\n",
    "    id_list = [r.id for r in ranked_ruleset]\n",
    "\n",
    "    df = pd.DataFrame({'ID': id_list,'Fitness': score_list})\n",
    "    df.to_csv(f'results_generation_{i}.csv', index=False, header=False, sep=\",\")\n",
    "\n",
    "    scoreboard[f'Generation_{i}'] = score_list\n",
    "\n",
    "    ruleset = evolve_ruleset(ranked_ruleset, offspring_proportion, crossover_proportion, mutation_probability)\n",
    "\n",
    "scoreboard.to_csv(f'scores_after_{i}_generations.csv', index=False, header=False)\n",
    "\n",
    "env.close()\n"
   ]
  }
 ],
 "metadata": {
  "kernelspec": {
   "display_name": "Python 3.10.5 64-bit",
   "language": "python",
   "name": "python3"
  },
  "language_info": {
   "codemirror_mode": {
    "name": "ipython",
    "version": 3
   },
   "file_extension": ".py",
   "mimetype": "text/x-python",
   "name": "python",
   "nbconvert_exporter": "python",
   "pygments_lexer": "ipython3",
   "version": "3.10.5"
  },
  "vscode": {
   "interpreter": {
    "hash": "52634da84371cba311ea128a5ea7cdc41ff074b781779e754b270ff9f8153cee"
   }
  }
 },
 "nbformat": 4,
 "nbformat_minor": 5
}
