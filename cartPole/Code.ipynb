{
 "cells": [
  {
   "cell_type": "code",
   "execution_count": 1,
   "metadata": {},
   "outputs": [],
   "source": [
    "import pycxsimulator, gym, itertools, numpy as np, pandas as pd, random"
   ]
  },
  {
   "cell_type": "code",
   "execution_count": 2,
   "metadata": {},
   "outputs": [],
   "source": [
    "def mapping_observation_to_1D(observation, bits):\n",
    "    mapped_obv = []\n",
    "    lst_observations =[]\n",
    "    #var_for_velocity is fixed value for now\n",
    "    var_for_velocity = 5\n",
    "\n",
    "    #given range (-2.4, 2.4)\n",
    "    cart_position_range = np.linspace(-2.4, 2.4, num=bits+1)\n",
    "    lst_observations.append(cart_position_range)\n",
    "    #TODO\n",
    "    cart_velocity_range = np.linspace(-var_for_velocity, var_for_velocity, num=bits+1)\n",
    "    lst_observations.append(cart_velocity_range)\n",
    "    #given range (-0.2095 rad, 0.2095 rad)\n",
    "    pole_angle_range = np.linspace(-0.2095, 0.2095, num=bits+1)\n",
    "    lst_observations.append(pole_angle_range)\n",
    "    #TODO\n",
    "    pole_angular_velocity = np.linspace(-var_for_velocity, var_for_velocity, num=bits+1)\n",
    "    lst_observations.append(pole_angular_velocity)\n",
    "\n",
    "    for observation_index in range(len(lst_observations)):\n",
    "        for index in range(1, len(lst_observations[observation_index])):\n",
    "            #lower bound value <= observed value <= upper bound value\n",
    "            if lst_observations[observation_index][index-1] <= observation[observation_index] <= lst_observations[observation_index][index]:\n",
    "                mapped_obv.append(1)\n",
    "                #if we find it then fill the rest with 0s and break loop\n",
    "                for i in range(len(lst_observations[observation_index])-index-1):\n",
    "                    mapped_obv.append(0)\n",
    "                break\n",
    "            else:\n",
    "                mapped_obv.append(0)\n",
    "                \n",
    "        #5 break cells between observation values\n",
    "        for i in range(0,5):\n",
    "            mapped_obv.append(0)\n",
    "            \n",
    "    return mapped_obv\n"
   ]
  },
  {
   "cell_type": "code",
   "execution_count": 104,
   "metadata": {},
   "outputs": [],
   "source": [
    "from turtle import update\n",
    "\n",
    "\n",
    "class rule:\n",
    "    def __init__(self,geno={},fitness=0, num_neighbours=5):\n",
    "        self.geno = geno\n",
    "        self.fitness = fitness\n",
    "        self.num_neighbours = num_neighbours\n",
    "\n",
    "        combinations_n_neighbours = list(itertools.product([0, 1], repeat=num_neighbours))\n",
    "        combinations_n_neighbours = [\"\".join(str(seq)).replace(',','').replace(' ','').replace('(','').replace(')','') for seq in combinations_n_neighbours]\n",
    "\n",
    "        self.configurations = combinations_n_neighbours\n",
    "\n",
    "    def update_geno(self,gene):\n",
    "        \n",
    "        for i in range(len(self.configurations)):\n",
    "            self.geno[self.configurations[i]] = gene[i]\n",
    "\n",
    "\n",
    "    def random_initiation(self):\n",
    "        if self.geno == {}:\n",
    "            _ = {}\n",
    "\n",
    "            for configuration in self.configurations:\n",
    "                _[configuration] = random.choice([0,1])\n",
    "\n",
    "            self.geno = _\n",
    "            return\n",
    "\n",
    "    def update_fitness(self,new_fitness):\n",
    "        self.fitness = new_fitness\n",
    "\n",
    "    def reproduce(self, other, method='random_one_point'):\n",
    "        if method == 'random_one_point':\n",
    "            split_point = random.randrange(len(self.geno.values()))\n",
    "            first_half = list(self.geno.values())[:split_point]\n",
    "            second_half = list(other.geno.values())[split_point:]\n",
    "            _ = first_half + second_half\n",
    "        \n",
    "        child = rule()\n",
    "        child.update_geno(_)\n",
    "        return child   \n",
    "\n",
    "    def mutate(self,p=0.8):\n",
    "        _ = list(self.geno.values())\n",
    "        \n",
    "        _ = [digit if random.random() > p else 1 - digit for digit in _]\n",
    "        \n",
    "        self.update_geno(_)\n",
    "            \n",
    "            \n",
    "        \n",
    "\n"
   ]
  },
  {
   "cell_type": "code",
   "execution_count": 105,
   "metadata": {},
   "outputs": [],
   "source": [
    "rule_1 = rule()\n",
    "rule_1.random_initiation()"
   ]
  },
  {
   "cell_type": "code",
   "execution_count": 106,
   "metadata": {},
   "outputs": [],
   "source": [
    "rule_2 = rule()\n",
    "rule_2.random_initiation()"
   ]
  },
  {
   "cell_type": "code",
   "execution_count": 107,
   "metadata": {},
   "outputs": [
    {
     "data": {
      "text/plain": [
       "dict_values([1, 1, 0, 1, 1, 0, 0, 1, 0, 1, 0, 1, 1, 1, 1, 1, 0, 0, 1, 0, 0, 0, 0, 0, 1, 1, 1, 1, 0, 1, 0, 0])"
      ]
     },
     "execution_count": 107,
     "metadata": {},
     "output_type": "execute_result"
    }
   ],
   "source": [
    "rule_1.geno.values()"
   ]
  },
  {
   "cell_type": "code",
   "execution_count": 108,
   "metadata": {},
   "outputs": [
    {
     "data": {
      "text/plain": [
       "dict_values([0, 1, 0, 0, 0, 1, 0, 0, 1, 0, 1, 1, 0, 1, 0, 1, 0, 1, 1, 1, 1, 1, 0, 0, 0, 1, 0, 1, 1, 0, 1, 0])"
      ]
     },
     "execution_count": 108,
     "metadata": {},
     "output_type": "execute_result"
    }
   ],
   "source": [
    "rule_2.geno.values()"
   ]
  },
  {
   "cell_type": "code",
   "execution_count": 109,
   "metadata": {},
   "outputs": [],
   "source": [
    "kid = rule_1.reproduce(rule_2)"
   ]
  },
  {
   "cell_type": "code",
   "execution_count": 110,
   "metadata": {},
   "outputs": [
    {
     "data": {
      "text/plain": [
       "dict_values([1, 1, 0, 1, 1, 0, 0, 1, 0, 1, 0, 1, 1, 1, 1, 1, 0, 0, 1, 1, 1, 1, 0, 0, 0, 1, 0, 1, 1, 0, 1, 0])"
      ]
     },
     "execution_count": 110,
     "metadata": {},
     "output_type": "execute_result"
    }
   ],
   "source": [
    "kid.geno.values()"
   ]
  },
  {
   "cell_type": "code",
   "execution_count": null,
   "metadata": {},
   "outputs": [],
   "source": []
  }
 ],
 "metadata": {
  "kernelspec": {
   "display_name": "Python 3.10.6 ('study')",
   "language": "python",
   "name": "python3"
  },
  "language_info": {
   "codemirror_mode": {
    "name": "ipython",
    "version": 3
   },
   "file_extension": ".py",
   "mimetype": "text/x-python",
   "name": "python",
   "nbconvert_exporter": "python",
   "pygments_lexer": "ipython3",
   "version": "3.10.6"
  },
  "orig_nbformat": 4,
  "vscode": {
   "interpreter": {
    "hash": "29d06b973d1ddb34db3279b24f9b5152402e688db937648b736e855ec4de60c0"
   }
  }
 },
 "nbformat": 4,
 "nbformat_minor": 2
}
